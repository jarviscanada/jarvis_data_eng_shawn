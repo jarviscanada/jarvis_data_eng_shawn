{
 "cells": [
  {
   "cell_type": "code",
   "execution_count": 1,
   "metadata": {},
   "outputs": [
    {
     "name": "stdout",
     "output_type": "stream",
     "text": [
      "hello world\n"
     ]
    }
   ],
   "source": [
    "print(\"hello world\")"
   ]
  },
  {
   "cell_type": "code",
   "execution_count": 13,
   "metadata": {},
   "outputs": [
    {
     "name": "stdout",
     "output_type": "stream",
     "text": [
      "6\n",
      "[2, 3, 4, 56]\n",
      "[1, 2, 3, 4, 56, 'as', 5]\n",
      "1\n",
      "2\n",
      "3\n",
      "4\n",
      "56\n",
      "as\n",
      "5\n",
      "56\n"
     ]
    }
   ],
   "source": [
    "array=[1,2,3,4,56,\"as\"]\n",
    "print(len(array))\n",
    "print(array[1:-1])\n",
    "array.append(5)\n",
    "print(array)\n",
    "for course in array:\n",
    "    print(course)\n",
    "print(array.pop(-3))"
   ]
  },
  {
   "cell_type": "code",
   "execution_count": null,
   "metadata": {},
   "outputs": [],
   "source": []
  }
 ],
 "metadata": {
  "kernelspec": {
   "display_name": "Python 3",
   "language": "python",
   "name": "python3"
  },
  "language_info": {
   "codemirror_mode": {
    "name": "ipython",
    "version": 3
   },
   "file_extension": ".py",
   "mimetype": "text/x-python",
   "name": "python",
   "nbconvert_exporter": "python",
   "pygments_lexer": "ipython3",
   "version": "3.8.5"
  }
 },
 "nbformat": 4,
 "nbformat_minor": 4
}
